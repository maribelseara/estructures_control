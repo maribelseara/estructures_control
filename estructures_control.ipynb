{
 "cells": [
  {
   "attachments": {},
   "cell_type": "markdown",
   "metadata": {},
   "source": [
    "# M2 T01"
   ]
  },
  {
   "attachments": {},
   "cell_type": "markdown",
   "metadata": {},
   "source": [
    "### Exercici 1\n",
    "L'exercici consisteix a crear un programa que et classifiqui una variable numèrica en funció de l’escala Suspès/Aprovat/Notable/Excel·lent.\n",
    "\n",
    "Recorda que Suspès < 5, Aprovat > 5 i < 7, Notable > 7 i < 9 i Excel·lent > 9."
   ]
  },
  {
   "cell_type": "code",
   "execution_count": 3,
   "metadata": {},
   "outputs": [
    {
     "name": "stdout",
     "output_type": "stream",
     "text": [
      "La nota 6.8 és Aprovat\n"
     ]
    }
   ],
   "source": [
    "import sys\n",
    "def retorna_nota(nota_num):\n",
    "    if nota_num < 5:\n",
    "        return \"Suspès\"\n",
    "    if nota_num < 7:\n",
    "        return \"Aprovat\"\n",
    "    if nota_num < 9:\n",
    "        return \"Notable\"\n",
    "    return \"Excelent\"\n",
    "\n",
    "nota_num=input(\"Introdueixi la nota en format numèric\")\n",
    "try:\n",
    "    nota_num=float(nota_num)\n",
    "    if nota_num >= 0 and nota_num <= 10:\n",
    "        print(f\"La nota {nota_num} és {retorna_nota(nota_num)}\")\n",
    "    else:\n",
    "        print(\"La nota ha d'estar entre 0 i 10\")\n",
    "except:\n",
    "    print(\"No s'ha introduit una nota numèrica\")\n"
   ]
  },
  {
   "attachments": {},
   "cell_type": "markdown",
   "metadata": {},
   "source": [
    "### - Exercici 2\n",
    "Utilitzant el següent tutorial crea un programa que et pregunti dos números. T’ha de mostrar un missatge dient si el primer és més gran, el segon és més gran o són iguals."
   ]
  },
  {
   "cell_type": "code",
   "execution_count": 4,
   "metadata": {},
   "outputs": [
    {
     "name": "stdout",
     "output_type": "stream",
     "text": [
      "El primer número es més gran que el segon\n"
     ]
    }
   ],
   "source": [
    "def numero_major(num1, num2):\n",
    "    if num1 > num2:\n",
    "        print(\"El primer número es més gran que el segon\")\n",
    "    elif num2 > num1:\n",
    "        print(\"El segon número es més gran que el primer\")\n",
    "    else:\n",
    "        print(\"Els dos nombres són iguals\")\n",
    "\n",
    "num1=input(\"Introdueixi el primer número\")\n",
    "num2=input(\"Introdueixi el segon número\")\n",
    "try:\n",
    "    num1=float(num1)\n",
    "    num2=float(num2)\n",
    "    numero_major(num1, num2)\n",
    "except:\n",
    "    print(\"Tots els valors introduits han de ser numèrics\")"
   ]
  },
  {
   "attachments": {},
   "cell_type": "markdown",
   "metadata": {},
   "source": [
    "### Exercici 3\n",
    "Crea un programa que et pregunti el teu nom, i et demani un número. Si el número és 0, hauria de mostrar un missatge d’error. En cas contrari, hauria de mostrar el nom repetit tants cops com indiqui el número. Per exemple, “Joan Joan Joan”."
   ]
  },
  {
   "cell_type": "code",
   "execution_count": 5,
   "metadata": {},
   "outputs": [
    {
     "name": "stdout",
     "output_type": "stream",
     "text": [
      "Maribel Maribel Maribel Maribel Maribel \n"
     ]
    }
   ],
   "source": [
    "def nom_repetit(nom, num):\n",
    "    if num==0:\n",
    "        print(\"El número ha de ser més gran que 0\")\n",
    "    else:\n",
    "        print((nom + ' ') * num)\n",
    "\n",
    "nom=input(\"Introdueix el teu nom\")\n",
    "num=input(\"Introdueix un número\")\n",
    "try:\n",
    "    num=int(num)\n",
    "    nom_repetit(nom, num)\n",
    "except:\n",
    "    print(\"No s'ha introduit un número\")"
   ]
  },
  {
   "attachments": {},
   "cell_type": "markdown",
   "metadata": {},
   "source": [
    "### Exercici 4\n",
    "Crea un programa que donada una llista qualsevol, et digui si és simètrica o no. Si ho és, que et digui quants elements té."
   ]
  },
  {
   "cell_type": "code",
   "execution_count": 6,
   "metadata": {},
   "outputs": [
    {
     "name": "stdout",
     "output_type": "stream",
     "text": [
      "True\n",
      "False\n",
      "True\n",
      "False\n"
     ]
    }
   ],
   "source": [
    "def simetria(llista):\n",
    "    if llista == llista[::-1]:\n",
    "        return True\n",
    "    return False\n",
    "\n",
    "llista_numeros=[5, 3, 4, 3, 5]\n",
    "print(simetria(llista_numeros))\n",
    "llista_numeros2=[5, 3, 4, 15, 5]\n",
    "print(simetria(llista_numeros2))\n",
    "llista_str=['conill', 'pollastre', 'pollastre', 'conill']\n",
    "print(simetria(llista_str))\n",
    "llista_str2=['blau', 'groc', 'groc', 'vermell']\n",
    "print(simetria(llista_str2))"
   ]
  },
  {
   "attachments": {},
   "cell_type": "markdown",
   "metadata": {},
   "source": [
    "### Exercici 5\n",
    "Crea un programa que donada una llista, et digui quants números coincideixen amb la seva posició. Per exemple [3,4,2,0,2,3,6] el 2 i el 6 coincideixen."
   ]
  },
  {
   "cell_type": "code",
   "execution_count": 7,
   "metadata": {},
   "outputs": [
    {
     "name": "stdout",
     "output_type": "stream",
     "text": [
      "2 números coincideixen amb la seva posició\n"
     ]
    }
   ],
   "source": [
    "def num_en_pos(llista):\n",
    "    coincidents=0\n",
    "    for i, element in enumerate(llista_nombres):\n",
    "        if element == i:\n",
    "            coincidents+=1\n",
    "    print(f\"{coincidents} números coincideixen amb la seva posició\")\n",
    "\n",
    "llista_nombres=[5, 4, 5, 3, 8, 5, 25]\n",
    "num_en_pos(llista_nombres)"
   ]
  }
 ],
 "metadata": {
  "kernelspec": {
   "display_name": "con-01",
   "language": "python",
   "name": "python3"
  },
  "language_info": {
   "codemirror_mode": {
    "name": "ipython",
    "version": 3
   },
   "file_extension": ".py",
   "mimetype": "text/x-python",
   "name": "python",
   "nbconvert_exporter": "python",
   "pygments_lexer": "ipython3",
   "version": "3.11.3"
  },
  "orig_nbformat": 4
 },
 "nbformat": 4,
 "nbformat_minor": 2
}
